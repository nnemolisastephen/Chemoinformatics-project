{
 "cells": [
  {
   "cell_type": "code",
   "execution_count": 39,
   "id": "05d90776",
   "metadata": {},
   "outputs": [],
   "source": [
    "import math\n",
    "import tempfile as TemporaryDirectory\n",
    "import zipfile as Zipfile\n",
    "from pathlib import Path\n",
    "import pandas as pd\n",
    "import numpy as np\n",
    "from rdkit.Chem import PandasTools\n",
    "from chembl_webresource_client.new_client import new_client\n",
    "from tqdm.auto import tqdm\n",
    "from rdkit import Chem\n",
    "from rdkit.Chem import rdmolops, Draw, AllChem, Descriptors \n",
    "from IPython.display import display, Image\n",
    "import matplotlib.pyplot as plt\n",
    "import seaborn as sns\n",
    "%matplotlib inline"
   ]
  },
  {
   "cell_type": "code",
   "execution_count": 2,
   "id": "fd8be7a1",
   "metadata": {},
   "outputs": [
    {
     "data": {
      "text/plain": [
       "chembl_webresource_client.query_set.QuerySet"
      ]
     },
     "execution_count": 2,
     "metadata": {},
     "output_type": "execute_result"
    }
   ],
   "source": [
    "HERE = Path(_dh[-1])\n",
    "DATA = HERE / \"data2\"\n",
    "\n",
    "targets_api = new_client.target\n",
    "compounds_api = new_client.molecule\n",
    "bioactivities_api = new_client.activity\n",
    "type(targets_api)"
   ]
  },
  {
   "cell_type": "code",
   "execution_count": 3,
   "metadata": {},
   "outputs": [
    {
     "name": "stdout",
     "output_type": "stream",
     "text": [
      "The type of the targets: <class 'chembl_webresource_client.query_set.QuerySet'>\n"
     ]
    }
   ],
   "source": [
    "uniprot_id = \"Q06124\"\n",
    "\n",
    "targets = targets_api.get(targets_components_accession=uniprot_id).only(\n",
    "    \"target_chembl_id\",\"organism\", \"pref_name\", \"target_type\"\n",
    ")\n",
    "print(f\"The type of the targets: {type(targets)}\")"
   ]
  },
  {
   "cell_type": "code",
   "execution_count": 22,
   "metadata": {},
   "outputs": [],
   "source": [
    "#targets = pd.DataFrame.from_records(targets)\n",
    "#targets"
   ]
  },
  {
   "cell_type": "code",
   "execution_count": 23,
   "metadata": {},
   "outputs": [],
   "source": [
    "#targets[targets['pref_name'] == \"Protein-tyrosine phosphatase 2C\"]"
   ]
  },
  {
   "cell_type": "code",
   "execution_count": 17,
   "id": "960e9cea",
   "metadata": {},
   "outputs": [
    {
     "name": "stdout",
     "output_type": "stream",
     "text": [
      "The type of the targets: <class 'chembl_webresource_client.query_set.QuerySet'>\n"
     ]
    }
   ],
   "source": [
    "uniprot_id = \"Q06124\"\n",
    "\n",
    "targets_new = targets_api.filter(targets_components_accession=uniprot_id).only(\n",
    "    \"target_chembl_id\",\"organism\", \"pref_name\", \"target_type\"\n",
    ")\n",
    "print(f\"The type of the targets: {type(targets_new)}\")"
   ]
  },
  {
   "cell_type": "code",
   "execution_count": 18,
   "id": "38f1ecbd",
   "metadata": {},
   "outputs": [],
   "source": [
    "target_list = list(targets_new)\n",
    "df =pd.DataFrame(target_list)"
   ]
  },
  {
   "cell_type": "code",
   "execution_count": 20,
   "id": "82256b8d",
   "metadata": {},
   "outputs": [
    {
     "data": {
      "text/html": [
       "<div>\n",
       "<style scoped>\n",
       "    .dataframe tbody tr th:only-of-type {\n",
       "        vertical-align: middle;\n",
       "    }\n",
       "\n",
       "    .dataframe tbody tr th {\n",
       "        vertical-align: top;\n",
       "    }\n",
       "\n",
       "    .dataframe thead th {\n",
       "        text-align: right;\n",
       "    }\n",
       "</style>\n",
       "<table border=\"1\" class=\"dataframe\">\n",
       "  <thead>\n",
       "    <tr style=\"text-align: right;\">\n",
       "      <th></th>\n",
       "      <th>organism</th>\n",
       "      <th>pref_name</th>\n",
       "      <th>target_chembl_id</th>\n",
       "      <th>target_type</th>\n",
       "    </tr>\n",
       "  </thead>\n",
       "  <tbody>\n",
       "    <tr>\n",
       "      <th>0</th>\n",
       "      <td>Homo sapiens</td>\n",
       "      <td>Maltase-glucoamylase</td>\n",
       "      <td>CHEMBL2074</td>\n",
       "      <td>SINGLE PROTEIN</td>\n",
       "    </tr>\n",
       "    <tr>\n",
       "      <th>1</th>\n",
       "      <td>Homo sapiens</td>\n",
       "      <td>Sulfonylurea receptor 2</td>\n",
       "      <td>CHEMBL1971</td>\n",
       "      <td>SINGLE PROTEIN</td>\n",
       "    </tr>\n",
       "    <tr>\n",
       "      <th>2</th>\n",
       "      <td>Homo sapiens</td>\n",
       "      <td>Phosphodiesterase 5A</td>\n",
       "      <td>CHEMBL1827</td>\n",
       "      <td>SINGLE PROTEIN</td>\n",
       "    </tr>\n",
       "    <tr>\n",
       "      <th>3</th>\n",
       "      <td>Homo sapiens</td>\n",
       "      <td>Voltage-gated T-type calcium channel alpha-1H ...</td>\n",
       "      <td>CHEMBL1859</td>\n",
       "      <td>SINGLE PROTEIN</td>\n",
       "    </tr>\n",
       "    <tr>\n",
       "      <th>4</th>\n",
       "      <td>Ascaris suum</td>\n",
       "      <td>Nicotinic acetylcholine receptor alpha subunit</td>\n",
       "      <td>CHEMBL1884</td>\n",
       "      <td>SINGLE PROTEIN</td>\n",
       "    </tr>\n",
       "    <tr>\n",
       "      <th>...</th>\n",
       "      <td>...</td>\n",
       "      <td>...</td>\n",
       "      <td>...</td>\n",
       "      <td>...</td>\n",
       "    </tr>\n",
       "    <tr>\n",
       "      <th>15998</th>\n",
       "      <td>Homo sapiens</td>\n",
       "      <td>CDK10/Cyclin L2</td>\n",
       "      <td>CHEMBL5483186</td>\n",
       "      <td>PROTEIN COMPLEX</td>\n",
       "    </tr>\n",
       "    <tr>\n",
       "      <th>15999</th>\n",
       "      <td>Homo sapiens</td>\n",
       "      <td>CDK11A/Cyclin L2</td>\n",
       "      <td>CHEMBL5483187</td>\n",
       "      <td>PROTEIN COMPLEX</td>\n",
       "    </tr>\n",
       "    <tr>\n",
       "      <th>16000</th>\n",
       "      <td>Homo sapiens</td>\n",
       "      <td>CDK11B/Cyclin L2</td>\n",
       "      <td>CHEMBL5483188</td>\n",
       "      <td>PROTEIN COMPLEX</td>\n",
       "    </tr>\n",
       "    <tr>\n",
       "      <th>16001</th>\n",
       "      <td>Homo sapiens</td>\n",
       "      <td>CDK1/Cyclin E</td>\n",
       "      <td>CHEMBL5483189</td>\n",
       "      <td>PROTEIN COMPLEX GROUP</td>\n",
       "    </tr>\n",
       "    <tr>\n",
       "      <th>16002</th>\n",
       "      <td>Mus musculus</td>\n",
       "      <td>Cereblon-BCR-ABL</td>\n",
       "      <td>CHEMBL5483195</td>\n",
       "      <td>PROTEIN-PROTEIN INTERACTION</td>\n",
       "    </tr>\n",
       "  </tbody>\n",
       "</table>\n",
       "<p>16003 rows × 4 columns</p>\n",
       "</div>"
      ],
      "text/plain": [
       "           organism                                          pref_name  \\\n",
       "0      Homo sapiens                               Maltase-glucoamylase   \n",
       "1      Homo sapiens                            Sulfonylurea receptor 2   \n",
       "2      Homo sapiens                               Phosphodiesterase 5A   \n",
       "3      Homo sapiens  Voltage-gated T-type calcium channel alpha-1H ...   \n",
       "4      Ascaris suum     Nicotinic acetylcholine receptor alpha subunit   \n",
       "...             ...                                                ...   \n",
       "15998  Homo sapiens                                    CDK10/Cyclin L2   \n",
       "15999  Homo sapiens                                   CDK11A/Cyclin L2   \n",
       "16000  Homo sapiens                                   CDK11B/Cyclin L2   \n",
       "16001  Homo sapiens                                      CDK1/Cyclin E   \n",
       "16002  Mus musculus                                   Cereblon-BCR-ABL   \n",
       "\n",
       "      target_chembl_id                  target_type  \n",
       "0           CHEMBL2074               SINGLE PROTEIN  \n",
       "1           CHEMBL1971               SINGLE PROTEIN  \n",
       "2           CHEMBL1827               SINGLE PROTEIN  \n",
       "3           CHEMBL1859               SINGLE PROTEIN  \n",
       "4           CHEMBL1884               SINGLE PROTEIN  \n",
       "...                ...                          ...  \n",
       "15998    CHEMBL5483186              PROTEIN COMPLEX  \n",
       "15999    CHEMBL5483187              PROTEIN COMPLEX  \n",
       "16000    CHEMBL5483188              PROTEIN COMPLEX  \n",
       "16001    CHEMBL5483189        PROTEIN COMPLEX GROUP  \n",
       "16002    CHEMBL5483195  PROTEIN-PROTEIN INTERACTION  \n",
       "\n",
       "[16003 rows x 4 columns]"
      ]
     },
     "execution_count": 20,
     "metadata": {},
     "output_type": "execute_result"
    }
   ],
   "source": [
    "df"
   ]
  },
  {
   "cell_type": "code",
   "execution_count": 21,
   "id": "f4d5d73b",
   "metadata": {},
   "outputs": [
    {
     "data": {
      "text/html": [
       "<div>\n",
       "<style scoped>\n",
       "    .dataframe tbody tr th:only-of-type {\n",
       "        vertical-align: middle;\n",
       "    }\n",
       "\n",
       "    .dataframe tbody tr th {\n",
       "        vertical-align: top;\n",
       "    }\n",
       "\n",
       "    .dataframe thead th {\n",
       "        text-align: right;\n",
       "    }\n",
       "</style>\n",
       "<table border=\"1\" class=\"dataframe\">\n",
       "  <thead>\n",
       "    <tr style=\"text-align: right;\">\n",
       "      <th></th>\n",
       "      <th>organism</th>\n",
       "      <th>pref_name</th>\n",
       "      <th>target_chembl_id</th>\n",
       "      <th>target_type</th>\n",
       "    </tr>\n",
       "  </thead>\n",
       "  <tbody>\n",
       "    <tr>\n",
       "      <th>1280</th>\n",
       "      <td>Homo sapiens</td>\n",
       "      <td>Protein-tyrosine phosphatase 2C</td>\n",
       "      <td>CHEMBL3864</td>\n",
       "      <td>SINGLE PROTEIN</td>\n",
       "    </tr>\n",
       "    <tr>\n",
       "      <th>1770</th>\n",
       "      <td>Mus musculus</td>\n",
       "      <td>Protein-tyrosine phosphatase 2C</td>\n",
       "      <td>CHEMBL2620</td>\n",
       "      <td>SINGLE PROTEIN</td>\n",
       "    </tr>\n",
       "  </tbody>\n",
       "</table>\n",
       "</div>"
      ],
      "text/plain": [
       "          organism                        pref_name target_chembl_id  \\\n",
       "1280  Homo sapiens  Protein-tyrosine phosphatase 2C       CHEMBL3864   \n",
       "1770  Mus musculus  Protein-tyrosine phosphatase 2C       CHEMBL2620   \n",
       "\n",
       "         target_type  \n",
       "1280  SINGLE PROTEIN  \n",
       "1770  SINGLE PROTEIN  "
      ]
     },
     "execution_count": 21,
     "metadata": {},
     "output_type": "execute_result"
    }
   ],
   "source": [
    "df[df['pref_name'] == \"Protein-tyrosine phosphatase 2C\"]"
   ]
  },
  {
   "cell_type": "code",
   "execution_count": 27,
   "id": "6041e4b4",
   "metadata": {},
   "outputs": [
    {
     "name": "stdout",
     "output_type": "stream",
     "text": [
      "The Chembl id is CHEMBL3864\n"
     ]
    }
   ],
   "source": [
    "shp2 = df.iloc[1280]\n",
    "chembl = shp2.target_chembl_id\n",
    "print(f\"The Chembl id is {chembl}\")"
   ]
  },
  {
   "cell_type": "code",
   "execution_count": 28,
   "id": "384debc9",
   "metadata": {},
   "outputs": [
    {
     "name": "stdout",
     "output_type": "stream",
     "text": [
      "the length and type of bioactivities object: (1105, <class 'chembl_webresource_client.query_set.QuerySet'>)\n"
     ]
    }
   ],
   "source": [
    "bioactivities = bioactivities_api.filter(\n",
    "    target_chembl_id =chembl, type=\"IC50\",relation = \"=\",assay_type = \"B\"\n",
    ").only(\"activity_id\",\n",
    "       \"assay_chembl_id\",\n",
    "       \"assay_description\",\n",
    "       \"assay_type\",\n",
    "       \"molecule_chembl_id\",\n",
    "       \"type\",\n",
    "       \"standard_units\",\n",
    "       \"standard_value\",\n",
    "       \"relation\",\n",
    "       \"target_chembl_id\",\n",
    "       \"target_organism\")\n",
    "\n",
    "print(f\"the length and type of bioactivities object: {len(bioactivities), type(bioactivities)}\")"
   ]
  },
  {
   "cell_type": "code",
   "execution_count": 29,
   "id": "3a49a510",
   "metadata": {},
   "outputs": [
    {
     "data": {
      "text/plain": [
       "{'activity_id': 596575,\n",
       " 'assay_chembl_id': 'CHEMBL812686',\n",
       " 'assay_description': 'In vitro inhibitory concentration required against Tyrosine phosphatase SHP-2 in the presence of 300 nM DTT',\n",
       " 'assay_type': 'B',\n",
       " 'molecule_chembl_id': 'CHEMBL420456',\n",
       " 'relation': '=',\n",
       " 'standard_units': 'nM',\n",
       " 'standard_value': '5000.0',\n",
       " 'target_chembl_id': 'CHEMBL3864',\n",
       " 'target_organism': 'Homo sapiens',\n",
       " 'type': 'IC50',\n",
       " 'units': 'uM',\n",
       " 'value': '5.0'}"
      ]
     },
     "execution_count": 29,
     "metadata": {},
     "output_type": "execute_result"
    }
   ],
   "source": [
    "bioactivities[0]"
   ]
  },
  {
   "cell_type": "code",
   "execution_count": 30,
   "id": "a0115b4a",
   "metadata": {},
   "outputs": [
    {
     "name": "stdout",
     "output_type": "stream",
     "text": [
      "Dataframe shape:(1105, 13)\n"
     ]
    },
    {
     "data": {
      "text/html": [
       "<div>\n",
       "<style scoped>\n",
       "    .dataframe tbody tr th:only-of-type {\n",
       "        vertical-align: middle;\n",
       "    }\n",
       "\n",
       "    .dataframe tbody tr th {\n",
       "        vertical-align: top;\n",
       "    }\n",
       "\n",
       "    .dataframe thead th {\n",
       "        text-align: right;\n",
       "    }\n",
       "</style>\n",
       "<table border=\"1\" class=\"dataframe\">\n",
       "  <thead>\n",
       "    <tr style=\"text-align: right;\">\n",
       "      <th></th>\n",
       "      <th>activity_id</th>\n",
       "      <th>assay_chembl_id</th>\n",
       "      <th>assay_description</th>\n",
       "      <th>assay_type</th>\n",
       "      <th>molecule_chembl_id</th>\n",
       "      <th>relation</th>\n",
       "      <th>standard_units</th>\n",
       "      <th>standard_value</th>\n",
       "      <th>target_chembl_id</th>\n",
       "      <th>target_organism</th>\n",
       "      <th>type</th>\n",
       "      <th>units</th>\n",
       "      <th>value</th>\n",
       "    </tr>\n",
       "  </thead>\n",
       "  <tbody>\n",
       "    <tr>\n",
       "      <th>0</th>\n",
       "      <td>596575</td>\n",
       "      <td>CHEMBL812686</td>\n",
       "      <td>In vitro inhibitory concentration required aga...</td>\n",
       "      <td>B</td>\n",
       "      <td>CHEMBL420456</td>\n",
       "      <td>=</td>\n",
       "      <td>nM</td>\n",
       "      <td>5000.0</td>\n",
       "      <td>CHEMBL3864</td>\n",
       "      <td>Homo sapiens</td>\n",
       "      <td>IC50</td>\n",
       "      <td>uM</td>\n",
       "      <td>5.0</td>\n",
       "    </tr>\n",
       "    <tr>\n",
       "      <th>1</th>\n",
       "      <td>613765</td>\n",
       "      <td>CHEMBL812686</td>\n",
       "      <td>In vitro inhibitory concentration required aga...</td>\n",
       "      <td>B</td>\n",
       "      <td>CHEMBL96952</td>\n",
       "      <td>=</td>\n",
       "      <td>nM</td>\n",
       "      <td>9000.0</td>\n",
       "      <td>CHEMBL3864</td>\n",
       "      <td>Homo sapiens</td>\n",
       "      <td>IC50</td>\n",
       "      <td>uM</td>\n",
       "      <td>9.0</td>\n",
       "    </tr>\n",
       "    <tr>\n",
       "      <th>2</th>\n",
       "      <td>627855</td>\n",
       "      <td>CHEMBL812686</td>\n",
       "      <td>In vitro inhibitory concentration required aga...</td>\n",
       "      <td>B</td>\n",
       "      <td>CHEMBL95255</td>\n",
       "      <td>=</td>\n",
       "      <td>nM</td>\n",
       "      <td>14000.0</td>\n",
       "      <td>CHEMBL3864</td>\n",
       "      <td>Homo sapiens</td>\n",
       "      <td>IC50</td>\n",
       "      <td>uM</td>\n",
       "      <td>14.0</td>\n",
       "    </tr>\n",
       "    <tr>\n",
       "      <th>3</th>\n",
       "      <td>688576</td>\n",
       "      <td>CHEMBL801967</td>\n",
       "      <td>Inhibitory activity against Protein tyrosine p...</td>\n",
       "      <td>B</td>\n",
       "      <td>CHEMBL140954</td>\n",
       "      <td>=</td>\n",
       "      <td>nM</td>\n",
       "      <td>16000.0</td>\n",
       "      <td>CHEMBL3864</td>\n",
       "      <td>Homo sapiens</td>\n",
       "      <td>IC50</td>\n",
       "      <td>uM</td>\n",
       "      <td>16.0</td>\n",
       "    </tr>\n",
       "    <tr>\n",
       "      <th>4</th>\n",
       "      <td>692358</td>\n",
       "      <td>CHEMBL801967</td>\n",
       "      <td>Inhibitory activity against Protein tyrosine p...</td>\n",
       "      <td>B</td>\n",
       "      <td>CHEMBL344437</td>\n",
       "      <td>=</td>\n",
       "      <td>nM</td>\n",
       "      <td>152000.0</td>\n",
       "      <td>CHEMBL3864</td>\n",
       "      <td>Homo sapiens</td>\n",
       "      <td>IC50</td>\n",
       "      <td>uM</td>\n",
       "      <td>152.0</td>\n",
       "    </tr>\n",
       "  </tbody>\n",
       "</table>\n",
       "</div>"
      ],
      "text/plain": [
       "   activity_id assay_chembl_id  \\\n",
       "0       596575    CHEMBL812686   \n",
       "1       613765    CHEMBL812686   \n",
       "2       627855    CHEMBL812686   \n",
       "3       688576    CHEMBL801967   \n",
       "4       692358    CHEMBL801967   \n",
       "\n",
       "                                   assay_description assay_type  \\\n",
       "0  In vitro inhibitory concentration required aga...          B   \n",
       "1  In vitro inhibitory concentration required aga...          B   \n",
       "2  In vitro inhibitory concentration required aga...          B   \n",
       "3  Inhibitory activity against Protein tyrosine p...          B   \n",
       "4  Inhibitory activity against Protein tyrosine p...          B   \n",
       "\n",
       "  molecule_chembl_id relation standard_units standard_value target_chembl_id  \\\n",
       "0       CHEMBL420456        =             nM         5000.0       CHEMBL3864   \n",
       "1        CHEMBL96952        =             nM         9000.0       CHEMBL3864   \n",
       "2        CHEMBL95255        =             nM        14000.0       CHEMBL3864   \n",
       "3       CHEMBL140954        =             nM        16000.0       CHEMBL3864   \n",
       "4       CHEMBL344437        =             nM       152000.0       CHEMBL3864   \n",
       "\n",
       "  target_organism  type units  value  \n",
       "0    Homo sapiens  IC50    uM    5.0  \n",
       "1    Homo sapiens  IC50    uM    9.0  \n",
       "2    Homo sapiens  IC50    uM   14.0  \n",
       "3    Homo sapiens  IC50    uM   16.0  \n",
       "4    Homo sapiens  IC50    uM  152.0  "
      ]
     },
     "execution_count": 30,
     "metadata": {},
     "output_type": "execute_result"
    }
   ],
   "source": [
    "bioactivities_df = pd.DataFrame.from_dict(bioactivities)\n",
    "print(f\"Dataframe shape:{bioactivities_df.shape}\")\n",
    "bioactivities_df.head()"
   ]
  },
  {
   "cell_type": "code",
   "execution_count": 31,
   "id": "45678cb8",
   "metadata": {},
   "outputs": [],
   "source": [
    "bioactivities_df.to_csv(\"activity_data.csv\")"
   ]
  },
  {
   "cell_type": "code",
   "execution_count": 40,
   "id": "ce719b88",
   "metadata": {},
   "outputs": [
    {
     "name": "stdout",
     "output_type": "stream",
     "text": [
      "(1105, 11)\n"
     ]
    }
   ],
   "source": [
    "bioactivities_df.drop(columns=['assay_type','units'],axis=1,inplace=True)\n",
    "print(bioactivities_df.shape)"
   ]
  },
  {
   "cell_type": "code",
   "execution_count": 41,
   "id": "74dc0095",
   "metadata": {},
   "outputs": [],
   "source": [
    "bioactivities_df['standard_value'] = bioactivities_df['standard_value'].astype('float32')"
   ]
  },
  {
   "cell_type": "code",
   "execution_count": 45,
   "id": "ce173535",
   "metadata": {},
   "outputs": [
    {
     "data": {
      "text/plain": [
       "activity_id           0\n",
       "assay_chembl_id       0\n",
       "assay_description     0\n",
       "molecule_chembl_id    0\n",
       "relation              0\n",
       "standard_units        0\n",
       "standard_value        0\n",
       "target_chembl_id      0\n",
       "target_organism       0\n",
       "type                  0\n",
       "value                 0\n",
       "dtype: int64"
      ]
     },
     "execution_count": 45,
     "metadata": {},
     "output_type": "execute_result"
    }
   ],
   "source": [
    "bioactivities_df.isnull().sum()"
   ]
  },
  {
   "cell_type": "code",
   "execution_count": 51,
   "id": "3e1f6f6a",
   "metadata": {},
   "outputs": [
    {
     "data": {
      "image/png": "[encoded data removed]",
      "text/plain": [
       "<Figure size 640x480 with 1 Axes>"
      ]
     },
     "metadata": {},
     "output_type": "display_data"
    }
   ],
   "source": [
    "sns.heatmap(bioactivities_df.isnull(),cmap=\"viridis\",cbar=False,yticklabels=False)\n",
    "plt.show()"
   ]
  },
  {
   "cell_type": "code",
   "execution_count": 53,
   "id": "c31e7b0a",
   "metadata": {},
   "outputs": [
    {
     "data": {
      "text/plain": [
       "standard_units\n",
       "nM         1104\n",
       "ug.mL-1       1\n",
       "Name: count, dtype: int64"
      ]
     },
     "execution_count": 53,
     "metadata": {},
     "output_type": "execute_result"
    }
   ],
   "source": [
    "bioactivities_df.standard_units.value_counts()"
   ]
  },
  {
   "cell_type": "code",
   "execution_count": 55,
   "id": "2ad4e44a",
   "metadata": {},
   "outputs": [
    {
     "data": {
      "text/plain": [
       "1104"
      ]
     },
     "execution_count": 55,
     "metadata": {},
     "output_type": "execute_result"
    }
   ],
   "source": [
    "bioactivity_main = bioactivities_df[bioactivities_df['standard_units'] == \"nM\"]\n",
    "len(bioactivity_main)"
   ]
  },
  {
   "cell_type": "code",
   "execution_count": null,
   "id": "89049f4b",
   "metadata": {},
   "outputs": [
    {
     "data": {
      "text/plain": [
       "294"
      ]
     },
     "execution_count": 58,
     "metadata": {},
     "output_type": "execute_result"
    }
   ],
   "source": [
    "bioactivity_main['molecule_chembl_id'].duplicated().sum()"
   ]
  },
  {
   "cell_type": "code",
   "execution_count": 59,
   "id": "dd871ccc",
   "metadata": {},
   "outputs": [
    {
     "name": "stderr",
     "output_type": "stream",
     "text": [
      "C:\\Users\\USER\\AppData\\Local\\Temp\\ipykernel_8464\\1914405404.py:1: SettingWithCopyWarning: \n",
      "A value is trying to be set on a copy of a slice from a DataFrame\n",
      "\n",
      "See the caveats in the documentation: https://pandas.pydata.org/pandas-docs/stable/user_guide/indexing.html#returning-a-view-versus-a-copy\n",
      "  bioactivity_main.drop_duplicates(subset='molecule_chembl_id',keep=\"first\",inplace=True)\n"
     ]
    }
   ],
   "source": [
    "bioactivity_main.drop_duplicates(subset='molecule_chembl_id',keep=\"first\",inplace=True)"
   ]
  },
  {
   "cell_type": "code",
   "execution_count": 63,
   "id": "14cb6c23",
   "metadata": {},
   "outputs": [],
   "source": [
    "bioactivity_main.reset_index(drop=True,inplace=True)"
   ]
  },
  {
   "cell_type": "code",
   "execution_count": 65,
   "id": "fd523a30",
   "metadata": {},
   "outputs": [
    {
     "name": "stderr",
     "output_type": "stream",
     "text": [
      "C:\\Users\\USER\\AppData\\Local\\Temp\\ipykernel_8464\\627889036.py:1: SettingWithCopyWarning: \n",
      "A value is trying to be set on a copy of a slice from a DataFrame\n",
      "\n",
      "See the caveats in the documentation: https://pandas.pydata.org/pandas-docs/stable/user_guide/indexing.html#returning-a-view-versus-a-copy\n",
      "  bioactivity_main.rename(columns={\"standard_value\":\"IC50\", \"standard_unit\":\"units\"},inplace=True)\n"
     ]
    }
   ],
   "source": [
    "bioactivity_main.rename(columns={\"standard_value\":\"IC50\", \"standard_unit\":\"units\"},inplace=True)"
   ]
  },
  {
   "cell_type": "code",
   "execution_count": 66,
   "id": "5933f66e",
   "metadata": {},
   "outputs": [],
   "source": [
    "bioactivity_main.to_csv(\"main_activity.csv\")"
   ]
  },
  {
   "cell_type": "code",
   "execution_count": 4,
   "id": "255c5efb",
   "metadata": {},
   "outputs": [],
   "source": [
    "df = pd.read_csv(\"main_activity.csv\")\n",
    "df.drop(columns=\"Unnamed: 0\",inplace=True)"
   ]
  },
  {
   "cell_type": "code",
   "execution_count": 6,
   "id": "07901edb",
   "metadata": {},
   "outputs": [
    {
     "data": {
      "text/html": [
       "<div>\n",
       "<style scoped>\n",
       "    .dataframe tbody tr th:only-of-type {\n",
       "        vertical-align: middle;\n",
       "    }\n",
       "\n",
       "    .dataframe tbody tr th {\n",
       "        vertical-align: top;\n",
       "    }\n",
       "\n",
       "    .dataframe thead th {\n",
       "        text-align: right;\n",
       "    }\n",
       "</style>\n",
       "<table border=\"1\" class=\"dataframe\">\n",
       "  <thead>\n",
       "    <tr style=\"text-align: right;\">\n",
       "      <th></th>\n",
       "      <th>activity_id</th>\n",
       "      <th>assay_chembl_id</th>\n",
       "      <th>assay_description</th>\n",
       "      <th>molecule_chembl_id</th>\n",
       "      <th>relation</th>\n",
       "      <th>standard_units</th>\n",
       "      <th>IC50</th>\n",
       "      <th>target_chembl_id</th>\n",
       "      <th>target_organism</th>\n",
       "      <th>type</th>\n",
       "      <th>value</th>\n",
       "    </tr>\n",
       "  </thead>\n",
       "  <tbody>\n",
       "    <tr>\n",
       "      <th>298</th>\n",
       "      <td>17620833</td>\n",
       "      <td>CHEMBL3706028</td>\n",
       "      <td>Inhibition Assay: In vitro Shp2 PTP activity i...</td>\n",
       "      <td>CHEMBL3693928</td>\n",
       "      <td>=</td>\n",
       "      <td>nM</td>\n",
       "      <td>14300.0</td>\n",
       "      <td>CHEMBL3864</td>\n",
       "      <td>Homo sapiens</td>\n",
       "      <td>IC50</td>\n",
       "      <td>14300.0</td>\n",
       "    </tr>\n",
       "  </tbody>\n",
       "</table>\n",
       "</div>"
      ],
      "text/plain": [
       "     activity_id assay_chembl_id  \\\n",
       "298     17620833   CHEMBL3706028   \n",
       "\n",
       "                                     assay_description molecule_chembl_id  \\\n",
       "298  Inhibition Assay: In vitro Shp2 PTP activity i...      CHEMBL3693928   \n",
       "\n",
       "    relation standard_units     IC50 target_chembl_id target_organism  type  \\\n",
       "298        =             nM  14300.0       CHEMBL3864    Homo sapiens  IC50   \n",
       "\n",
       "       value  \n",
       "298  14300.0  "
      ]
     },
     "execution_count": 6,
     "metadata": {},
     "output_type": "execute_result"
    }
   ],
   "source": [
    "df.sample()"
   ]
  },
  {
   "cell_type": "code",
   "execution_count": 7,
   "id": "1b122938",
   "metadata": {},
   "outputs": [],
   "source": [
    "compounds_provider = compounds_api.filter(\n",
    "    molecule_chembl_id__in = list(df[\"molecule_chembl_id\"])\n",
    ").only(\"molecule_chembl_id\",\"molecule_structures\")"
   ]
  },
  {
   "cell_type": "code",
   "execution_count": 8,
   "id": "579537b2",
   "metadata": {},
   "outputs": [
    {
     "name": "stderr",
     "output_type": "stream",
     "text": [
      "100%|██████████| 810/810 [00:48<00:00, 16.76it/s]\n"
     ]
    }
   ],
   "source": [
    "compounds_df = list(tqdm(compounds_provider))"
   ]
  },
  {
   "cell_type": "code",
   "execution_count": 10,
   "id": "fd96c99d",
   "metadata": {},
   "outputs": [
    {
     "data": {
      "text/html": [
       "<div>\n",
       "<style scoped>\n",
       "    .dataframe tbody tr th:only-of-type {\n",
       "        vertical-align: middle;\n",
       "    }\n",
       "\n",
       "    .dataframe tbody tr th {\n",
       "        vertical-align: top;\n",
       "    }\n",
       "\n",
       "    .dataframe thead th {\n",
       "        text-align: right;\n",
       "    }\n",
       "</style>\n",
       "<table border=\"1\" class=\"dataframe\">\n",
       "  <thead>\n",
       "    <tr style=\"text-align: right;\">\n",
       "      <th></th>\n",
       "      <th>molecule_chembl_id</th>\n",
       "      <th>molecule_structures</th>\n",
       "    </tr>\n",
       "  </thead>\n",
       "  <tbody>\n",
       "    <tr>\n",
       "      <th>316</th>\n",
       "      <td>CHEMBL3918902</td>\n",
       "      <td>{'canonical_smiles': 'O=C(COc1ccc2cc(C(O)(C(F)...</td>\n",
       "    </tr>\n",
       "  </tbody>\n",
       "</table>\n",
       "</div>"
      ],
      "text/plain": [
       "    molecule_chembl_id                                molecule_structures\n",
       "316      CHEMBL3918902  {'canonical_smiles': 'O=C(COc1ccc2cc(C(O)(C(F)..."
      ]
     },
     "execution_count": 10,
     "metadata": {},
     "output_type": "execute_result"
    }
   ],
   "source": [
    "compounds_df = pd.DataFrame.from_records(compounds_df)\n",
    "compounds_df.sample()"
   ]
  },
  {
   "cell_type": "code",
   "execution_count": 11,
   "id": "d7fe96a1",
   "metadata": {},
   "outputs": [
    {
     "data": {
      "text/plain": [
       "molecule_chembl_id     0\n",
       "molecule_structures    2\n",
       "dtype: int64"
      ]
     },
     "execution_count": 11,
     "metadata": {},
     "output_type": "execute_result"
    }
   ],
   "source": [
    "compounds_df.isna().sum()"
   ]
  },
  {
   "cell_type": "code",
   "execution_count": 12,
   "id": "5c4ee2d2",
   "metadata": {},
   "outputs": [
    {
     "data": {
      "text/plain": [
       "810"
      ]
     },
     "execution_count": 12,
     "metadata": {},
     "output_type": "execute_result"
    }
   ],
   "source": [
    "len(compounds_df)"
   ]
  },
  {
   "cell_type": "code",
   "execution_count": 13,
   "id": "36aaaf52",
   "metadata": {},
   "outputs": [
    {
     "data": {
      "text/plain": [
       "808"
      ]
     },
     "execution_count": 13,
     "metadata": {},
     "output_type": "execute_result"
    }
   ],
   "source": [
    "compounds_df.dropna(axis=0,inplace=True)\n",
    "len(compounds_df)"
   ]
  },
  {
   "cell_type": "code",
   "execution_count": 14,
   "id": "89fa5cbb",
   "metadata": {},
   "outputs": [
    {
     "data": {
      "text/plain": [
       "0"
      ]
     },
     "execution_count": 14,
     "metadata": {},
     "output_type": "execute_result"
    }
   ],
   "source": [
    "compounds_df['molecule_chembl_id'].duplicated().sum()"
   ]
  },
  {
   "cell_type": "code",
   "execution_count": null,
   "id": "305cea44",
   "metadata": {},
   "outputs": [
    {
     "data": {
      "text/html": [
       "<div>\n",
       "<style scoped>\n",
       "    .dataframe tbody tr th:only-of-type {\n",
       "        vertical-align: middle;\n",
       "    }\n",
       "\n",
       "    .dataframe tbody tr th {\n",
       "        vertical-align: top;\n",
       "    }\n",
       "\n",
       "    .dataframe thead th {\n",
       "        text-align: right;\n",
       "    }\n",
       "</style>\n",
       "<table border=\"1\" class=\"dataframe\">\n",
       "  <thead>\n",
       "    <tr style=\"text-align: right;\">\n",
       "      <th></th>\n",
       "      <th>molecule_chembl_id</th>\n",
       "      <th>molecule_structures</th>\n",
       "      <th>smiles</th>\n",
       "    </tr>\n",
       "  </thead>\n",
       "  <tbody>\n",
       "    <tr>\n",
       "      <th>495</th>\n",
       "      <td>CHEMBL4783825</td>\n",
       "      <td>{'canonical_smiles': 'COc1ccc(-n2cc(-c3ccc(C#N...</td>\n",
       "      <td>COc1ccc(-n2cc(-c3ccc(C#N)cc3)c3cc(-c4ccc(C(=O)...</td>\n",
       "    </tr>\n",
       "  </tbody>\n",
       "</table>\n",
       "</div>"
      ],
      "text/plain": [
       "    molecule_chembl_id                                molecule_structures  \\\n",
       "495      CHEMBL4783825  {'canonical_smiles': 'COc1ccc(-n2cc(-c3ccc(C#N...   \n",
       "\n",
       "                                                smiles  \n",
       "495  COc1ccc(-n2cc(-c3ccc(C#N)cc3)c3cc(-c4ccc(C(=O)...  "
      ]
     },
     "execution_count": 17,
     "metadata": {},
     "output_type": "execute_result"
    }
   ],
   "source": [
    "canonical_smiles = []\n",
    "\n",
    "for i, compounds in compounds_df.iterrows():\n",
    "    try:\n",
    "        canonical_smiles.append(compounds['molecule_structures']['canonical_smiles'])\n",
    "    except KeyError:\n",
    "        canonical_smiles.append(None)\n",
    "\n",
    "compounds_df[\"smiles\"]= canonical_smiles"
   ]
  },
  {
   "cell_type": "code",
   "execution_count": 20,
   "id": "b76cd0a1",
   "metadata": {},
   "outputs": [
    {
     "data": {
      "text/html": [
       "<div>\n",
       "<style scoped>\n",
       "    .dataframe tbody tr th:only-of-type {\n",
       "        vertical-align: middle;\n",
       "    }\n",
       "\n",
       "    .dataframe tbody tr th {\n",
       "        vertical-align: top;\n",
       "    }\n",
       "\n",
       "    .dataframe thead th {\n",
       "        text-align: right;\n",
       "    }\n",
       "</style>\n",
       "<table border=\"1\" class=\"dataframe\">\n",
       "  <thead>\n",
       "    <tr style=\"text-align: right;\">\n",
       "      <th></th>\n",
       "      <th>molecule_chembl_id</th>\n",
       "      <th>smiles</th>\n",
       "    </tr>\n",
       "  </thead>\n",
       "  <tbody>\n",
       "  </tbody>\n",
       "</table>\n",
       "</div>"
      ],
      "text/plain": [
       "Empty DataFrame\n",
       "Columns: [molecule_chembl_id, smiles]\n",
       "Index: []"
      ]
     },
     "execution_count": 20,
     "metadata": {},
     "output_type": "execute_result"
    }
   ],
   "source": [
    "compounds_df.drop(columns=\"molecule_structures\",axis=1,inplace=True)\n",
    "compounds_df[compounds_df['smiles'].isna()]"
   ]
  },
  {
   "cell_type": "code",
   "execution_count": 24,
   "id": "3f48ea82",
   "metadata": {},
   "outputs": [],
   "source": [
    "df_merged = pd.merge(compounds_df,df[[\"molecule_chembl_id\",\"IC50\",\"standard_units\"]],on=\"molecule_chembl_id\")"
   ]
  },
  {
   "cell_type": "code",
   "execution_count": 28,
   "id": "02f0cad5",
   "metadata": {},
   "outputs": [
    {
     "name": "stdout",
     "output_type": "stream",
     "text": [
      "molecule_chembl_id     object\n",
      "smiles                 object\n",
      "IC50                  float64\n",
      "standard_units         object\n",
      "dtype: object\n"
     ]
    }
   ],
   "source": [
    "print(df_merged.dtypes)\n",
    "\n",
    "def convert_ic50(ic50_value):\n",
    "    pic50 = round(9 - math.log10(ic50_value),3)\n",
    "    return pic50"
   ]
  },
  {
   "cell_type": "code",
   "execution_count": 31,
   "id": "8a74dda1",
   "metadata": {},
   "outputs": [],
   "source": [
    "df_merged[\"pIC50\"]= df_merged[\"IC50\"].apply(convert_ic50)"
   ]
  },
  {
   "cell_type": "code",
   "execution_count": 32,
   "id": "32252929",
   "metadata": {},
   "outputs": [
    {
     "data": {
      "text/html": [
       "<div>\n",
       "<style scoped>\n",
       "    .dataframe tbody tr th:only-of-type {\n",
       "        vertical-align: middle;\n",
       "    }\n",
       "\n",
       "    .dataframe tbody tr th {\n",
       "        vertical-align: top;\n",
       "    }\n",
       "\n",
       "    .dataframe thead th {\n",
       "        text-align: right;\n",
       "    }\n",
       "</style>\n",
       "<table border=\"1\" class=\"dataframe\">\n",
       "  <thead>\n",
       "    <tr style=\"text-align: right;\">\n",
       "      <th></th>\n",
       "      <th>molecule_chembl_id</th>\n",
       "      <th>smiles</th>\n",
       "      <th>IC50</th>\n",
       "      <th>standard_units</th>\n",
       "      <th>pIC50</th>\n",
       "    </tr>\n",
       "  </thead>\n",
       "  <tbody>\n",
       "    <tr>\n",
       "      <th>0</th>\n",
       "      <td>CHEMBL432519</td>\n",
       "      <td>CC1=C(O)C(=O)C=C2C1=CC=C1[C@@]2(C)CC[C@@]2(C)[...</td>\n",
       "      <td>61600.0</td>\n",
       "      <td>nM</td>\n",
       "      <td>4.210</td>\n",
       "    </tr>\n",
       "    <tr>\n",
       "      <th>1</th>\n",
       "      <td>CHEMBL301982</td>\n",
       "      <td>CC1=C(O)C(=O)C=C2C1=CC=C1[C@@]2(C)CC[C@@]2(C)[...</td>\n",
       "      <td>3300.0</td>\n",
       "      <td>nM</td>\n",
       "      <td>5.481</td>\n",
       "    </tr>\n",
       "    <tr>\n",
       "      <th>2</th>\n",
       "      <td>CHEMBL96952</td>\n",
       "      <td>Nc1nc(N)c2nc(CN3CCN(Cc4ccccc4)CC3)nnc2n1</td>\n",
       "      <td>9000.0</td>\n",
       "      <td>nM</td>\n",
       "      <td>5.046</td>\n",
       "    </tr>\n",
       "    <tr>\n",
       "      <th>3</th>\n",
       "      <td>CHEMBL420456</td>\n",
       "      <td>Nc1nc(N)c2nc(CN3CCN(Cc4ccc(-c5ccccc5)cc4)CC3)n...</td>\n",
       "      <td>5000.0</td>\n",
       "      <td>nM</td>\n",
       "      <td>5.301</td>\n",
       "    </tr>\n",
       "    <tr>\n",
       "      <th>4</th>\n",
       "      <td>CHEMBL95255</td>\n",
       "      <td>CCN(CC)Cc1nnc2nc(N)nc(N)c2n1</td>\n",
       "      <td>14000.0</td>\n",
       "      <td>nM</td>\n",
       "      <td>4.854</td>\n",
       "    </tr>\n",
       "  </tbody>\n",
       "</table>\n",
       "</div>"
      ],
      "text/plain": [
       "  molecule_chembl_id                                             smiles  \\\n",
       "0       CHEMBL432519  CC1=C(O)C(=O)C=C2C1=CC=C1[C@@]2(C)CC[C@@]2(C)[...   \n",
       "1       CHEMBL301982  CC1=C(O)C(=O)C=C2C1=CC=C1[C@@]2(C)CC[C@@]2(C)[...   \n",
       "2        CHEMBL96952           Nc1nc(N)c2nc(CN3CCN(Cc4ccccc4)CC3)nnc2n1   \n",
       "3       CHEMBL420456  Nc1nc(N)c2nc(CN3CCN(Cc4ccc(-c5ccccc5)cc4)CC3)n...   \n",
       "4        CHEMBL95255                       CCN(CC)Cc1nnc2nc(N)nc(N)c2n1   \n",
       "\n",
       "      IC50 standard_units  pIC50  \n",
       "0  61600.0             nM  4.210  \n",
       "1   3300.0             nM  5.481  \n",
       "2   9000.0             nM  5.046  \n",
       "3   5000.0             nM  5.301  \n",
       "4  14000.0             nM  4.854  "
      ]
     },
     "execution_count": 32,
     "metadata": {},
     "output_type": "execute_result"
    }
   ],
   "source": [
    "df_merged.head()"
   ]
  },
  {
   "cell_type": "code",
   "execution_count": 35,
   "id": "1cb8a575",
   "metadata": {},
   "outputs": [
    {
     "data": {
      "image/png": "[encoded data removed]",
      "text/plain": [
       "<Figure size 640x480 with 1 Axes>"
      ]
     },
     "metadata": {},
     "output_type": "display_data"
    }
   ],
   "source": [
    "df_merged.hist(column=\"pIC50\")\n",
    "plt.show()"
   ]
  },
  {
   "cell_type": "code",
   "execution_count": 40,
   "id": "cf502390",
   "metadata": {},
   "outputs": [
    {
     "data": {
      "image/png": "[encoded data removed]",
      "text/plain": [
       "<PIL.Image.Image image mode=RGBA size=1500x300>"
      ]
     },
     "metadata": {},
     "output_type": "display_data"
    }
   ],
   "source": [
    "def show_molecules(smiles_list, n=5):\n",
    "    mols = [Chem.MolFromSmiles(smiles) for smiles in smiles_list[:n]]\n",
    "    img = Draw.MolsToImage(mols,subImgSize=(300,300))\n",
    "    return img\n",
    "\n",
    "first_five = df_merged[\"smiles\"].head()\n",
    "mol_image = show_molecules(first_five)\n",
    "display(mol_image)"
   ]
  },
  {
   "cell_type": "code",
   "execution_count": 45,
   "id": "e0646509",
   "metadata": {},
   "outputs": [],
   "source": [
    "def lipinski_descriptors(smile):\n",
    "    mol = Chem.MolFromSmiles(smile)\n",
    "    return {\n",
    "        \"MW\": Descriptors.ExactMolWt(mol),\n",
    "        \"HBA\": Descriptors.NumHAcceptors(mol),\n",
    "        \"HBD\": Descriptors.NumHDonors(mol),\n",
    "        \"LogP\": Descriptors.MolLogP(mol),\n",
    "        \"TPSA\": Descriptors.TPSA(mol),\n",
    "        \"RotBonds\": Descriptors.NumRotatableBonds(mol),\n",
    "    }"
   ]
  },
  {
   "cell_type": "code",
   "execution_count": 50,
   "id": "57c2f0ec",
   "metadata": {},
   "outputs": [],
   "source": [
    "lipinski_desc = pd.DataFrame([lipinski_descriptors(smile) for smile in df_merged[\"smiles\"]])"
   ]
  },
  {
   "cell_type": "code",
   "execution_count": 52,
   "id": "b4cc7ad8",
   "metadata": {},
   "outputs": [
    {
     "data": {
      "text/html": [
       "<div>\n",
       "<style scoped>\n",
       "    .dataframe tbody tr th:only-of-type {\n",
       "        vertical-align: middle;\n",
       "    }\n",
       "\n",
       "    .dataframe tbody tr th {\n",
       "        vertical-align: top;\n",
       "    }\n",
       "\n",
       "    .dataframe thead th {\n",
       "        text-align: right;\n",
       "    }\n",
       "</style>\n",
       "<table border=\"1\" class=\"dataframe\">\n",
       "  <thead>\n",
       "    <tr style=\"text-align: right;\">\n",
       "      <th></th>\n",
       "      <th>molecule_chembl_id</th>\n",
       "      <th>smiles</th>\n",
       "      <th>IC50</th>\n",
       "      <th>standard_units</th>\n",
       "      <th>pIC50</th>\n",
       "    </tr>\n",
       "  </thead>\n",
       "  <tbody>\n",
       "    <tr>\n",
       "      <th>0</th>\n",
       "      <td>CHEMBL432519</td>\n",
       "      <td>CC1=C(O)C(=O)C=C2C1=CC=C1[C@@]2(C)CC[C@@]2(C)[...</td>\n",
       "      <td>61600.0</td>\n",
       "      <td>nM</td>\n",
       "      <td>4.210</td>\n",
       "    </tr>\n",
       "    <tr>\n",
       "      <th>1</th>\n",
       "      <td>CHEMBL301982</td>\n",
       "      <td>CC1=C(O)C(=O)C=C2C1=CC=C1[C@@]2(C)CC[C@@]2(C)[...</td>\n",
       "      <td>3300.0</td>\n",
       "      <td>nM</td>\n",
       "      <td>5.481</td>\n",
       "    </tr>\n",
       "    <tr>\n",
       "      <th>2</th>\n",
       "      <td>CHEMBL96952</td>\n",
       "      <td>Nc1nc(N)c2nc(CN3CCN(Cc4ccccc4)CC3)nnc2n1</td>\n",
       "      <td>9000.0</td>\n",
       "      <td>nM</td>\n",
       "      <td>5.046</td>\n",
       "    </tr>\n",
       "    <tr>\n",
       "      <th>3</th>\n",
       "      <td>CHEMBL420456</td>\n",
       "      <td>Nc1nc(N)c2nc(CN3CCN(Cc4ccc(-c5ccccc5)cc4)CC3)n...</td>\n",
       "      <td>5000.0</td>\n",
       "      <td>nM</td>\n",
       "      <td>5.301</td>\n",
       "    </tr>\n",
       "    <tr>\n",
       "      <th>4</th>\n",
       "      <td>CHEMBL95255</td>\n",
       "      <td>CCN(CC)Cc1nnc2nc(N)nc(N)c2n1</td>\n",
       "      <td>14000.0</td>\n",
       "      <td>nM</td>\n",
       "      <td>4.854</td>\n",
       "    </tr>\n",
       "  </tbody>\n",
       "</table>\n",
       "</div>"
      ],
      "text/plain": [
       "  molecule_chembl_id                                             smiles  \\\n",
       "0       CHEMBL432519  CC1=C(O)C(=O)C=C2C1=CC=C1[C@@]2(C)CC[C@@]2(C)[...   \n",
       "1       CHEMBL301982  CC1=C(O)C(=O)C=C2C1=CC=C1[C@@]2(C)CC[C@@]2(C)[...   \n",
       "2        CHEMBL96952           Nc1nc(N)c2nc(CN3CCN(Cc4ccccc4)CC3)nnc2n1   \n",
       "3       CHEMBL420456  Nc1nc(N)c2nc(CN3CCN(Cc4ccc(-c5ccccc5)cc4)CC3)n...   \n",
       "4        CHEMBL95255                       CCN(CC)Cc1nnc2nc(N)nc(N)c2n1   \n",
       "\n",
       "      IC50 standard_units  pIC50  \n",
       "0  61600.0             nM  4.210  \n",
       "1   3300.0             nM  5.481  \n",
       "2   9000.0             nM  5.046  \n",
       "3   5000.0             nM  5.301  \n",
       "4  14000.0             nM  4.854  "
      ]
     },
     "execution_count": 52,
     "metadata": {},
     "output_type": "execute_result"
    }
   ],
   "source": [
    "df_merged.head()"
   ]
  },
  {
   "cell_type": "code",
   "execution_count": 53,
   "id": "bd73c927",
   "metadata": {},
   "outputs": [],
   "source": [
    "def morgan_fingerprint(smile):\n",
    "    mol = Chem.MolFromSmiles(smile)\n",
    "\n",
    "    return list(AllChem.GetMorganGenerator(radius=2,fpSize=1024).GetFingerprint(mol))\n",
    "\n",
    "valid_fps = [morgan_fingerprint(smile) for smile in df_merged['smiles']]\n",
    "fp_df = pd.DataFrame(valid_fps,columns=[f'bit_{i}' for i in range(1024)])\n",
    "\n",
    "output_df = pd.concat([df_merged,lipinski_desc,fp_df],axis=1)"
   ]
  },
  {
   "cell_type": "code",
   "execution_count": 55,
   "id": "5b2d03b3",
   "metadata": {},
   "outputs": [
    {
     "name": "stdout",
     "output_type": "stream",
     "text": [
      "(808, 1035)\n"
     ]
    }
   ],
   "source": [
    "print(output_df.shape)"
   ]
  },
  {
   "cell_type": "code",
   "execution_count": 56,
   "id": "066e3071",
   "metadata": {},
   "outputs": [],
   "source": [
    "output_df.to_csv(\"df_desc_main.csv\",index=False)"
   ]
  },
  {
   "cell_type": "code",
   "execution_count": null,
   "id": "5fc10d36",
   "metadata": {},
   "outputs": [],
   "source": []
  }
 ],
 "metadata": {
  "kernelspec": {
   "display_name": "streamlitenv",
   "language": "python",
   "name": "python3"
  },
  "language_info": {
   "codemirror_mode": {
    "name": "ipython",
    "version": 3
   },
   "file_extension": ".py",
   "mimetype": "text/x-python",
   "name": "python",
   "nbconvert_exporter": "python",
   "pygments_lexer": "ipython3",
   "version": "3.11.9"
  }
 },
 "nbformat": 4,
 "nbformat_minor": 5
}
